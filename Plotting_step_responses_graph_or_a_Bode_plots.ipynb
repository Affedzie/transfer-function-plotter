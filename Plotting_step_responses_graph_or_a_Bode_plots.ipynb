{
 "cells": [
  {
   "cell_type": "code",
   "execution_count": 1,
   "id": "7f28db09",
   "metadata": {},
   "outputs": [
    {
     "data": {
      "text/plain": [
       "'\\nThis script allows users to analyze and visualize the step response or Bode plot\\nof a transfer function under different time constants and orders of approximation.\\n\\nUsage:\\n1. Run the script.\\n2. Enter the requested parameters for the transfer function, time constants,\\n   and orders of approximation.\\n3. Choose between a Step Response Graph or a Bode Plot.\\n4. The script will generate the corresponding plots for each combination\\n   of time constants and orders of approximation.\\n\\nRequired Libraries:\\n- control\\n- matplotlib\\n- numpy\\n'"
      ]
     },
     "execution_count": 1,
     "metadata": {},
     "output_type": "execute_result"
    }
   ],
   "source": [
    "# Usage Guide\n",
    "\"\"\"\n",
    "This script allows users to analyze and visualize the step response or Bode plot\n",
    "of a transfer function under different time constants and orders of approximation.\n",
    "\n",
    "Usage:\n",
    "1. Run the script.\n",
    "2. Enter the requested parameters for the transfer function, time constants,\n",
    "   and orders of approximation.\n",
    "3. Choose between a Step Response Graph or a Bode Plot.\n",
    "4. The script will generate the corresponding plots for each combination\n",
    "   of time constants and orders of approximation.\n",
    "\n",
    "Required Libraries:\n",
    "- control\n",
    "- matplotlib\n",
    "- numpy\n",
    "\"\"\""
   ]
  },
  {
   "cell_type": "code",
   "execution_count": null,
   "id": "b7a66963",
   "metadata": {},
   "outputs": [],
   "source": [
    "import control\n",
    "import matplotlib.pyplot as plt\n",
    "import numpy as np\n",
    "# import sympy as sp"
   ]
  },
  {
   "cell_type": "code",
   "execution_count": null,
   "id": "a32ac305",
   "metadata": {},
   "outputs": [],
   "source": [
    "# Input validation function for positive integers\n",
    "def get_positive_integer_input(prompt):\n",
    "    while True:\n",
    "        try:\n",
    "            value = int(input(prompt))\n",
    "            if value <= 0:\n",
    "                print(\"Please enter a positive integer.\")\n",
    "            else:\n",
    "                return value\n",
    "        except ValueError:\n",
    "            print(\"Invalid input: Please enter a valid positive integer.\")\n",
    "\n",
    "# Input validation function for floating-point numbers\n",
    "def get_float_input(prompt):\n",
    "    while True:\n",
    "        try:\n",
    "            value = float(input(prompt))\n",
    "            return value\n",
    "        except ValueError:\n",
    "            print(\"Invalid input. Please enter a valid numeric value.\")"
   ]
  },
  {
   "cell_type": "code",
   "execution_count": null,
   "id": "0b701dc1",
   "metadata": {},
   "outputs": [],
   "source": [
    "# Get the number of time constants\n",
    "number_of_time_constants = get_positive_integer_input(\"Enter the number of time constants you want: \")"
   ]
  },
  {
   "cell_type": "code",
   "execution_count": null,
   "id": "22726006",
   "metadata": {},
   "outputs": [],
   "source": [
    "# Get the system gain\n",
    "system_gain = get_float_input(\"Enter a value for the system gain: \")"
   ]
  },
  {
   "cell_type": "code",
   "execution_count": null,
   "id": "437bb528",
   "metadata": {},
   "outputs": [],
   "source": [
    " "
   ]
  },
  {
   "cell_type": "code",
   "execution_count": null,
   "id": "cd1ef7d0",
   "metadata": {},
   "outputs": [],
   "source": [
    "# Get the number of order of approximations \n",
    "number_of_order_of_approximations = get_positive_integer_input(\"Enter the maximum number of order of approximations: \")"
   ]
  },
  {
   "cell_type": "code",
   "execution_count": null,
   "id": "aa4a1715",
   "metadata": {},
   "outputs": [],
   "source": [
    "time_constants = []\n",
    "order_of_approximations = []\n"
   ]
  },
  {
   "cell_type": "code",
   "execution_count": null,
   "id": "82161251",
   "metadata": {},
   "outputs": [],
   "source": [
    "print(\"Enter the following values to create the span for the time in seconds\")\n",
    "start = float(input(\"Enter the start time: \"))\n",
    "stop = float(input(\"Enter the stop time: \"))\n",
    "step = float(input(\"Enter the increament time: \"))\n",
    "t = np.arange(start, stop, step)"
   ]
  },
  {
   "cell_type": "code",
   "execution_count": null,
   "id": "3a5aea02",
   "metadata": {},
   "outputs": [],
   "source": [
    "# Define the Laplace variable 's' as a symbol\n",
    "s = control.TransferFunction.s\n",
    "\n",
    "# Get the user's transfer function coefficients\n",
    "numerator_coeffs = [float(coeff) for coeff in input(\"Enter the numerator coefficients separated by commas: \").split(',')]\n",
    "denominator_coeffs = [float(coeff) for coeff in input(\"Enter the denominator coefficients separated by commas: \").split(',')]\n",
    "\n",
    "# Create the transfer function based on user input\n",
    "H = control.TransferFunction(numerator_coeffs, denominator_coeffs)"
   ]
  },
  {
   "cell_type": "code",
   "execution_count": null,
   "id": "1c126260",
   "metadata": {},
   "outputs": [],
   "source": [
    "# Get the time constants and order of approximations from the user\n",
    "for _ in range(number_of_time_constants):\n",
    "    tau = get_float_input(\"Enter the value of the delay time: \")\n",
    "    time_constants.append(tau)\n",
    "\n"
   ]
  },
  {
   "cell_type": "code",
   "execution_count": null,
   "id": "39b56c7e",
   "metadata": {
    "scrolled": true
   },
   "outputs": [],
   "source": [
    "for _ in range(number_of_order_of_approximations):\n",
    "    order_of_approximation = get_positive_integer_input(\"Enter a value for the order of approximation: \")\n",
    "    order_of_approximations.append(order_of_approximation)"
   ]
  },
  {
   "cell_type": "code",
   "execution_count": null,
   "id": "bc023b42",
   "metadata": {},
   "outputs": [],
   "source": [
    "# Get the user's choice for the plot type\n",
    "\n",
    "print(\"Select the plot type:\")\n",
    "print(\"1. Step Response Graph\")\n",
    "print(\"2. Bode Plot\")\n",
    "user_choice = get_positive_integer_input(\"Enter the number corresponding to your choice: \")\n",
    "\n",
    "# Loop through time constants and order of approximations to create plots\n",
    "for tau in time_constants:\n",
    "    for order_of_approximation in order_of_approximations:\n",
    "        numerator_pade, denominator_pade = control.pade(tau, order_of_approximation)\n",
    "        H_pade = control.tf(numerator_pade, denominator_pade)\n",
    "        transfer_function = control.series(H, H_pade)\n",
    "\n",
    "        # Check the user's choice and create the corresponding plot\n",
    "        if user_choice == 1:\n",
    "            t, y = control.step_response(transfer_function)\n",
    "\n",
    "            # Create a new figure and plot for each time constant and order of approximation\n",
    "            plt.figure()\n",
    "            plt.plot(t, y)\n",
    "            plt.xlabel('Time (s)')\n",
    "            plt.ylabel('Output')\n",
    "            plt.title(f'Step Response for time constant = {tau}, Order of approximation = {order_of_approximation}')\n",
    "            plt.grid(True)\n",
    "\n",
    "        elif user_choice == 2:\n",
    "            # Create separate figures for magnitude and phase plots\n",
    "            plt.figure(figsize=(8, 6))\n",
    "\n",
    "            gridscpecification = plt.GridSpec(2, 1, height_ratios=[1, 0.85], hspace=0.4)  # Create GridSpec with spacing\n",
    "\n",
    "            plt.subplot(gridscpecification[0])\n",
    "            magnitude_dB, phase_deg, omega = control.bode(transfer_function, plot=False)\n",
    "            plt.semilogx(omega, magnitude_dB)\n",
    "            plt.xlabel('Frequency (rad/s)')\n",
    "            plt.ylabel('Magnitude (dB)')\n",
    "            plt.title(f'Bode Magnitude Plot for time constant = {tau}, Order of approximation = {order_of_approximation}')\n",
    "            plt.grid(which='both')\n",
    "            plt.minorticks_on()\n",
    "\n",
    "            plt.subplot(2, 1, 2)\n",
    "            plt.semilogx(omega, phase_deg)\n",
    "            plt.xlabel('Frequency (rad/s)')\n",
    "            plt.ylabel('Phase (degrees)')\n",
    "            plt.title(f'Bode Phase Plot for time constant = {tau}, Order of approximation = {order_of_approximation}')\n",
    "            plt.grid(which='both')\n",
    "            plt.minorticks_on()\n",
    "        else:\n",
    "            print(\"Select the plot type:\")\n",
    "            print(\"1. Step Response Graph\")\n",
    "            print(\"2. Bode Plot\")\n",
    "            user_choice = get_positive_integer_input(\"Enter the number corresponding to your choice: \")\n",
    "\n",
    "# Show the plots after the loop is completed\n",
    "plt.show()"
   ]
  },
  {
   "cell_type": "code",
   "execution_count": null,
   "id": "3fc94c06",
   "metadata": {},
   "outputs": [],
   "source": []
  },
  {
   "cell_type": "code",
   "execution_count": null,
   "id": "ab226312",
   "metadata": {},
   "outputs": [],
   "source": []
  },
  {
   "cell_type": "code",
   "execution_count": null,
   "id": "f0f400b8",
   "metadata": {},
   "outputs": [],
   "source": []
  }
 ],
 "metadata": {
  "kernelspec": {
   "display_name": "Python 3 (ipykernel)",
   "language": "python",
   "name": "python3"
  },
  "language_info": {
   "codemirror_mode": {
    "name": "ipython",
    "version": 3
   },
   "file_extension": ".py",
   "mimetype": "text/x-python",
   "name": "python",
   "nbconvert_exporter": "python",
   "pygments_lexer": "ipython3",
   "version": "3.10.11"
  },
  "varInspector": {
   "cols": {
    "lenName": 16,
    "lenType": 16,
    "lenVar": 40
   },
   "kernels_config": {
    "python": {
     "delete_cmd_postfix": "",
     "delete_cmd_prefix": "del ",
     "library": "var_list.py",
     "varRefreshCmd": "print(var_dic_list())"
    },
    "r": {
     "delete_cmd_postfix": ") ",
     "delete_cmd_prefix": "rm(",
     "library": "var_list.r",
     "varRefreshCmd": "cat(var_dic_list()) "
    }
   },
   "position": {
    "height": "384.844px",
    "left": "980px",
    "right": "20px",
    "top": "120px",
    "width": "350px"
   },
   "types_to_exclude": [
    "module",
    "function",
    "builtin_function_or_method",
    "instance",
    "_Feature"
   ],
   "window_display": false
  }
 },
 "nbformat": 4,
 "nbformat_minor": 5
}
